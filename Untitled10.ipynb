{
  "nbformat": 4,
  "nbformat_minor": 0,
  "metadata": {
    "colab": {
      "provenance": [],
      "authorship_tag": "ABX9TyOhUM2Z89MhMgspWBgq11Qc",
      "include_colab_link": true
    },
    "kernelspec": {
      "name": "python3",
      "display_name": "Python 3"
    },
    "language_info": {
      "name": "python"
    }
  },
  "cells": [
    {
      "cell_type": "markdown",
      "metadata": {
        "id": "view-in-github",
        "colab_type": "text"
      },
      "source": [
        "<a href=\"https://colab.research.google.com/github/salsabilfatimah/salsabilfatimah/blob/main/Untitled10.ipynb\" target=\"_parent\"><img src=\"https://colab.research.google.com/assets/colab-badge.svg\" alt=\"Open In Colab\"/></a>"
      ]
    },
    {
      "cell_type": "code",
      "execution_count": 2,
      "metadata": {
        "colab": {
          "base_uri": "https://localhost:8080/"
        },
        "id": "jIIe9GATYc3w",
        "outputId": "b9a91eae-41c4-4ad7-edd7-4fe825399826"
      },
      "outputs": [
        {
          "output_type": "stream",
          "name": "stdout",
          "text": [
            " enter a choice , rock, paper, scissor paper\n",
            "{'player': 'paper', 'computer': 'paper'}\n"
          ]
        }
      ],
      "source": [
        "import random\n",
        "\n",
        "def get_choices():\n",
        "  players_choice = input(\" enter a choice , rock, paper, scissor \")\n",
        "  options = [\"rock\",\"paper\",\"scissor\"]\n",
        "  computer_choice = random.choice(options)\n",
        "  choices = {\"player\":players_choice,\"computer\":computer_choice}\n",
        "\n",
        "  return choices\n",
        "\n",
        "choices = get_choices ()\n",
        "print (choices)"
      ]
    }
  ]
}